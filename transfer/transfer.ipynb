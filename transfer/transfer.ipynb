{
 "cells": [
  {
   "cell_type": "code",
   "execution_count": 11,
   "metadata": {},
   "outputs": [],
   "source": [
    "import os, sys, io\n",
    "dir2 = os.path.abspath('')\n",
    "dir1 = os.path.dirname(dir2)\n",
    "if not dir1 in sys.path: sys.path.append(dir1)\n",
    "\n",
    "import shutil\n",
    "from tkinter.filedialog import askdirectory\n",
    "from tkinter.messagebox import askyesno\n",
    "from crop.autocrop import crop\n",
    "import cv2"
   ]
  },
  {
   "cell_type": "code",
   "execution_count": 3,
   "metadata": {},
   "outputs": [],
   "source": [
    "def readQR(image : cv2.Mat):\n",
    "    qrCodeDetector = cv2.QRCodeDetector()\n",
    "    decoded_text, points, _ = qrCodeDetector.detectAndDecode(image)\n",
    "    if points is not None:\n",
    "        return decoded_text\n",
    "    return ''"
   ]
  },
  {
   "cell_type": "code",
   "execution_count": 16,
   "metadata": {},
   "outputs": [
    {
     "name": "stderr",
     "output_type": "stream",
     "text": [
      "2023-04-07 15:20:45.255 python[85027:7534542] +[CATransaction synchronize] called within transaction\n",
      "2023-04-07 15:20:45.259 python[85027:7534542] +[CATransaction synchronize] called within transaction\n",
      "2023-04-07 15:20:46.328 python[85027:7534542] +[CATransaction synchronize] called within transaction\n"
     ]
    },
    {
     "ename": "AssertionError",
     "evalue": "",
     "output_type": "error",
     "traceback": [
      "\u001b[0;31m---------------------------------------------------------------------------\u001b[0m",
      "\u001b[0;31mAssertionError\u001b[0m                            Traceback (most recent call last)",
      "Cell \u001b[0;32mIn[16], line 3\u001b[0m\n\u001b[1;32m      1\u001b[0m \u001b[39m# find sd path\u001b[39;00m\n\u001b[1;32m      2\u001b[0m sd_path \u001b[39m=\u001b[39m askdirectory(message\u001b[39m=\u001b[39m\u001b[39m'\u001b[39m\u001b[39mSelect Path To SD\u001b[39m\u001b[39m'\u001b[39m)\n\u001b[0;32m----> 3\u001b[0m \u001b[39massert\u001b[39;00m sd_path\n\u001b[1;32m      4\u001b[0m save_dir \u001b[39m=\u001b[39m askdirectory(message\u001b[39m=\u001b[39m\u001b[39m'\u001b[39m\u001b[39mSelect Directory To Save To\u001b[39m\u001b[39m'\u001b[39m)\n\u001b[1;32m      5\u001b[0m \u001b[39massert\u001b[39;00m save_dir\n",
      "\u001b[0;31mAssertionError\u001b[0m: "
     ]
    },
    {
     "ename": "",
     "evalue": "",
     "output_type": "error",
     "traceback": [
      "\u001b[1;31mThe Kernel crashed while executing code in the the current cell or a previous cell. Please review the code in the cell(s) to identify a possible cause of the failure. Click <a href='https://aka.ms/vscodeJupyterKernelCrash'>here</a> for more info. View Jupyter <a href='command:jupyter.viewOutput'>log</a> for further details."
     ]
    }
   ],
   "source": [
    "# find sd path\n",
    "sd_path = askdirectory(message='Select Path To SD')\n",
    "assert sd_path\n",
    "save_dir = askdirectory(message='Select Directory To Save To')\n",
    "assert save_dir\n",
    "\n",
    "# confirmation\n",
    "assert askyesno(message=f'Confirm Image Transfer:\\n{sd_path}\\n\\u2192\\n{save_dir}')\n",
    "\n",
    "# move imgs from sd to pc\n",
    "save_paths = []\n",
    "dir = os.fsencode(sd_path)\n",
    "for file in os.listdir(dir):\n",
    "    filename = os.fsdecode(file)\n",
    "    if filename.endswith(\".png\"):\n",
    "        # save original image to computer\n",
    "        src_path = os.path.join(sd_path, filename)\n",
    "        dest_path = os.path.join(save_dir, filename)\n",
    "        shutil.move(src_path, dest_path)\n",
    "        save_paths.append(dest_path)\n",
    "\n",
    "# create output csv\n",
    "csv = 'Image Path, Location, Number of Beetles\\n'\n",
    "for path in save_paths:\n",
    "    image = cv2.imread(path)\n",
    "    \n",
    "    # read QR\n",
    "    trap_label = readQR(image)\n",
    "\n",
    "    # crop\n",
    "    warped_rgb = crop(image)\n",
    "\n",
    "    # run model\n",
    "    model_path = ''\n",
    "    model = torch.hub.load(model_path)\n",
    "    result = model(path)\n",
    "\n",
    "    # update csv\n",
    "    csv += f'{path},{trap_label},{result}\\n'\n",
    "\n",
    "csv_path = os.path.join(save_dir, 'output.csv')\n",
    "with open(csv_path, 'a') as csvfile:\n",
    "    csvfile.write(csv)"
   ]
  },
  {
   "cell_type": "code",
   "execution_count": 18,
   "metadata": {},
   "outputs": [],
   "source": [
    "csv_title = 'Image Path, Location, Number of Beetles\\n'\n",
    "csv = 'test3\\n'\n",
    "csv_path = os.path.join('.', 'output.csv')\n",
    "with open(csv_path, 'a+') as csvfile:\n",
    "    csvfile.seek(0)\n",
    "    if csvfile.readline().strip() == csv_title.strip():\n",
    "        csvfile.seek(0, io.SEEK_END)\n",
    "    else:\n",
    "        csv = csv_title + csv\n",
    "    csvfile.write(csv)"
   ]
  },
  {
   "cell_type": "code",
   "execution_count": null,
   "metadata": {},
   "outputs": [],
   "source": []
  }
 ],
 "metadata": {
  "kernelspec": {
   "display_name": "tf",
   "language": "python",
   "name": "python3"
  },
  "language_info": {
   "codemirror_mode": {
    "name": "ipython",
    "version": 3
   },
   "file_extension": ".py",
   "mimetype": "text/x-python",
   "name": "python",
   "nbconvert_exporter": "python",
   "pygments_lexer": "ipython3",
   "version": "3.10.9"
  },
  "orig_nbformat": 4
 },
 "nbformat": 4,
 "nbformat_minor": 2
}
